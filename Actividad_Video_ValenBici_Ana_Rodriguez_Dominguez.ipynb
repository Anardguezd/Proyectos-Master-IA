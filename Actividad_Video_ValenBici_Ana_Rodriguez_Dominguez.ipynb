{
 "cells": [
  {
   "cell_type": "markdown",
   "id": "15390b7b",
   "metadata": {},
   "source": [
    "01 - Carga de datos de csv (estaciones_bici.csv) en un DataFrame"
   ]
  },
  {
   "cell_type": "markdown",
   "id": "612f53dc",
   "metadata": {},
   "source": [
    "Para esta practica vamos a necesitar la libreria de pandas para el tratamiento y analisis de los datos y matplotlib para graficar los resultados."
   ]
  },
  {
   "cell_type": "code",
   "execution_count": 33,
   "id": "ceae7289",
   "metadata": {},
   "outputs": [],
   "source": [
    "import pandas as pd"
   ]
  },
  {
   "cell_type": "code",
   "execution_count": 34,
   "id": "7c8a1710",
   "metadata": {},
   "outputs": [],
   "source": [
    "from os import path"
   ]
  },
  {
   "cell_type": "code",
   "execution_count": 35,
   "id": "cf2cb707",
   "metadata": {},
   "outputs": [],
   "source": [
    "import matplotlib.pyplot as plt"
   ]
  },
  {
   "cell_type": "code",
   "execution_count": 36,
   "id": "c08f6f91",
   "metadata": {},
   "outputs": [],
   "source": [
    "#Creamos la ruta de nuestro archivo csv:\n",
    "bicis_path= path.join('estaciones_bici.csv')"
   ]
  },
  {
   "cell_type": "code",
   "execution_count": 37,
   "id": "eaed510b",
   "metadata": {},
   "outputs": [],
   "source": [
    "#Pandas tiene metodos específicos para leer los csv directamente, le pasamos la ruta donde esta guardado y como esta delimitado:\n",
    "bicis=pd.read_csv(bicis_path,sep=';')"
   ]
  },
  {
   "cell_type": "code",
   "execution_count": 38,
   "id": "34cbf825",
   "metadata": {},
   "outputs": [],
   "source": [
    "#Visualizamos nuestro dataframe: lo asociamos a la variable \"data\" con la que trabajaremos durante la actividad,\n",
    "#escribimos las columnas de nuestro dataframe a mano:\n",
    "data=bicis[['station','total','download_date','available']]"
   ]
  },
  {
   "cell_type": "code",
   "execution_count": 39,
   "id": "18232d41",
   "metadata": {},
   "outputs": [
    {
     "data": {
      "text/html": [
       "<div>\n",
       "<style scoped>\n",
       "    .dataframe tbody tr th:only-of-type {\n",
       "        vertical-align: middle;\n",
       "    }\n",
       "\n",
       "    .dataframe tbody tr th {\n",
       "        vertical-align: top;\n",
       "    }\n",
       "\n",
       "    .dataframe thead th {\n",
       "        text-align: right;\n",
       "    }\n",
       "</style>\n",
       "<table border=\"1\" class=\"dataframe\">\n",
       "  <thead>\n",
       "    <tr style=\"text-align: right;\">\n",
       "      <th></th>\n",
       "      <th>station</th>\n",
       "      <th>total</th>\n",
       "      <th>download_date</th>\n",
       "      <th>available</th>\n",
       "    </tr>\n",
       "  </thead>\n",
       "  <tbody>\n",
       "    <tr>\n",
       "      <th>17637</th>\n",
       "      <td>269</td>\n",
       "      <td>15</td>\n",
       "      <td>2019-02-11 13:23:06.921</td>\n",
       "      <td>1</td>\n",
       "    </tr>\n",
       "    <tr>\n",
       "      <th>11440</th>\n",
       "      <td>21</td>\n",
       "      <td>16</td>\n",
       "      <td>2019-02-11 06:54:35.512</td>\n",
       "      <td>1</td>\n",
       "    </tr>\n",
       "    <tr>\n",
       "      <th>22932</th>\n",
       "      <td>262</td>\n",
       "      <td>20</td>\n",
       "      <td>2019-02-11 18:49:11.005</td>\n",
       "      <td>6</td>\n",
       "    </tr>\n",
       "    <tr>\n",
       "      <th>9118</th>\n",
       "      <td>158</td>\n",
       "      <td>15</td>\n",
       "      <td>2019-02-11 03:48:24.203</td>\n",
       "      <td>15</td>\n",
       "    </tr>\n",
       "    <tr>\n",
       "      <th>8082</th>\n",
       "      <td>132</td>\n",
       "      <td>15</td>\n",
       "      <td>2019-02-11 02:46:12.603</td>\n",
       "      <td>11</td>\n",
       "    </tr>\n",
       "  </tbody>\n",
       "</table>\n",
       "</div>"
      ],
      "text/plain": [
       "       station  total            download_date  available\n",
       "17637      269     15  2019-02-11 13:23:06.921          1\n",
       "11440       21     16  2019-02-11 06:54:35.512          1\n",
       "22932      262     20  2019-02-11 18:49:11.005          6\n",
       "9118       158     15  2019-02-11 03:48:24.203         15\n",
       "8082       132     15  2019-02-11 02:46:12.603         11"
      ]
     },
     "metadata": {},
     "output_type": "display_data"
    }
   ],
   "source": [
    "#Realizamos un .sample para que nos muestre 5 filas aleatorias de nuestro dataframe:\n",
    "display(data.sample(5))"
   ]
  },
  {
   "cell_type": "markdown",
   "id": "d57bc3c4",
   "metadata": {},
   "source": [
    "02 - Obtención del número de estaciones que tienen un total de 30 bornetas"
   ]
  },
  {
   "cell_type": "code",
   "execution_count": 40,
   "id": "eee38059",
   "metadata": {},
   "outputs": [
    {
     "data": {
      "text/plain": [
       "0         64\n",
       "1         73\n",
       "2         63\n",
       "3         64\n",
       "4         65\n",
       "        ... \n",
       "27542    260\n",
       "27543    261\n",
       "27544    268\n",
       "27545    269\n",
       "27546    276\n",
       "Name: station, Length: 27547, dtype: int64"
      ]
     },
     "execution_count": 40,
     "metadata": {},
     "output_type": "execute_result"
    }
   ],
   "source": [
    "#Si imprimimos por pantalla la columna 'station', observamos que tenemos estaciones repetidas:\n",
    "data['station']"
   ]
  },
  {
   "cell_type": "code",
   "execution_count": 41,
   "id": "cc260b3a",
   "metadata": {},
   "outputs": [
    {
     "data": {
      "text/plain": [
       "11"
      ]
     },
     "execution_count": 41,
     "metadata": {},
     "output_type": "execute_result"
    }
   ],
   "source": [
    "#Por lo que tenemos que borrar los duplicados para conocer el numero de estaciones unicas que tienen un total de 30 bornetas.\n",
    "#Realizamos un .drop_duplicates sobre el campo 'station', quedandonos con el ultimo elemento,\n",
    "#sin modificar el dataframe original:\n",
    "station_unic=data.drop_duplicates(subset='station',keep='last',inplace=False)\n",
    "#Calculo la longitud de la condición que me pide el enunciado y obtengo el numero de estaciones \n",
    "#que tienen un total de 30 bornetas:\n",
    "len(station_unic[station_unic['total']==30])"
   ]
  },
  {
   "cell_type": "markdown",
   "id": "e1763730",
   "metadata": {},
   "source": [
    "03 - Número de estación con la media más alta de bicis disponibles"
   ]
  },
  {
   "cell_type": "code",
   "execution_count": 42,
   "id": "33a3103d",
   "metadata": {},
   "outputs": [
    {
     "data": {
      "text/plain": [
       "31.26"
      ]
     },
     "execution_count": 42,
     "metadata": {},
     "output_type": "execute_result"
    }
   ],
   "source": [
    "#Agrupo mi dataframe por el campo 'station' y realizo la media:\n",
    "station_u=data.groupby('station').mean()\n",
    "#Busco en función del campo 'available'(bicis disponibles) cual es la media mas alta:\n",
    "station_u['available'].max()"
   ]
  },
  {
   "cell_type": "code",
   "execution_count": 43,
   "id": "98d55020",
   "metadata": {},
   "outputs": [
    {
     "data": {
      "text/html": [
       "<div>\n",
       "<style scoped>\n",
       "    .dataframe tbody tr th:only-of-type {\n",
       "        vertical-align: middle;\n",
       "    }\n",
       "\n",
       "    .dataframe tbody tr th {\n",
       "        vertical-align: top;\n",
       "    }\n",
       "\n",
       "    .dataframe thead th {\n",
       "        text-align: right;\n",
       "    }\n",
       "</style>\n",
       "<table border=\"1\" class=\"dataframe\">\n",
       "  <thead>\n",
       "    <tr style=\"text-align: right;\">\n",
       "      <th></th>\n",
       "      <th>total</th>\n",
       "      <th>available</th>\n",
       "    </tr>\n",
       "    <tr>\n",
       "      <th>station</th>\n",
       "      <th></th>\n",
       "      <th></th>\n",
       "    </tr>\n",
       "  </thead>\n",
       "  <tbody>\n",
       "    <tr>\n",
       "      <th>50</th>\n",
       "      <td>40.0</td>\n",
       "      <td>31.26</td>\n",
       "    </tr>\n",
       "  </tbody>\n",
       "</table>\n",
       "</div>"
      ],
      "text/plain": [
       "         total  available\n",
       "station                  \n",
       "50        40.0      31.26"
      ]
     },
     "execution_count": 43,
     "metadata": {},
     "output_type": "execute_result"
    }
   ],
   "source": [
    "#Imprimo por pantalla la estacion que cumple la condicion anterior:\n",
    "station_u[station_u['available']==station_u['available'].max()]"
   ]
  },
  {
   "cell_type": "code",
   "execution_count": 44,
   "id": "e93a0e76",
   "metadata": {},
   "outputs": [],
   "source": [
    "#Solución: Estacion 50."
   ]
  },
  {
   "cell_type": "markdown",
   "id": "4d7e8b1d",
   "metadata": {},
   "source": [
    "04 - Realizar el histograma de bicis disponibles de la estación del punto anterior"
   ]
  },
  {
   "cell_type": "code",
   "execution_count": 45,
   "id": "7eb6b7bb",
   "metadata": {},
   "outputs": [
    {
     "data": {
      "text/plain": [
       "array([[<AxesSubplot:title={'center':'available'}>]], dtype=object)"
      ]
     },
     "execution_count": 45,
     "metadata": {},
     "output_type": "execute_result"
    },
    {
     "data": {
      "image/png": "[encoded data removed]",
      "text/plain": [
       "<Figure size 432x288 with 1 Axes>"
      ]
     },
     "metadata": {
      "needs_background": "light"
     },
     "output_type": "display_data"
    }
   ],
   "source": [
    "#Me creo un nuevo Dataframe con los datos de la estacion 50:\n",
    "station_50=data[data['station']==50]\n",
    "#Grafico el histograma para la columna de bicis disponibles:\n",
    "station_50.hist(column='available')"
   ]
  },
  {
   "cell_type": "markdown",
   "id": "c97f6290",
   "metadata": {},
   "source": [
    "05 - Realizar gráfica con la línea temporal de bicis disponibles de la estación del punto anterior. Pista, es necesario cambiar el índice a uno tipo fecha"
   ]
  },
  {
   "cell_type": "code",
   "execution_count": 46,
   "id": "ed63a560",
   "metadata": {},
   "outputs": [
    {
     "name": "stderr",
     "output_type": "stream",
     "text": [
      "C:\\Users\\AnaRodriguezDomingue\\AppData\\Local\\Temp\\ipykernel_15748\\203996886.py:2: SettingWithCopyWarning: \n",
      "A value is trying to be set on a copy of a slice from a DataFrame.\n",
      "Try using .loc[row_indexer,col_indexer] = value instead\n",
      "\n",
      "See the caveats in the documentation: https://pandas.pydata.org/pandas-docs/stable/user_guide/indexing.html#returning-a-view-versus-a-copy\n",
      "  data['download_date'] = pd.to_datetime(data['download_date'])\n"
     ]
    }
   ],
   "source": [
    "#Transformo los datos de la columna 'download_date' a formato fecha:\n",
    "data['download_date'] = pd.to_datetime(data['download_date'])"
   ]
  },
  {
   "cell_type": "code",
   "execution_count": 47,
   "id": "03db0c98",
   "metadata": {},
   "outputs": [
    {
     "name": "stdout",
     "output_type": "stream",
     "text": [
      "<class 'pandas.core.frame.DataFrame'>\n",
      "RangeIndex: 27547 entries, 0 to 27546\n",
      "Data columns (total 4 columns):\n",
      " #   Column         Non-Null Count  Dtype         \n",
      "---  ------         --------------  -----         \n",
      " 0   station        27547 non-null  int64         \n",
      " 1   total          27547 non-null  int64         \n",
      " 2   download_date  27547 non-null  datetime64[ns]\n",
      " 3   available      27547 non-null  int64         \n",
      "dtypes: datetime64[ns](1), int64(3)\n",
      "memory usage: 861.0 KB\n"
     ]
    }
   ],
   "source": [
    "#verifico el cambio de formato (datetime64)\n",
    "data.info()"
   ]
  },
  {
   "cell_type": "code",
   "execution_count": 48,
   "id": "bc4d5532",
   "metadata": {},
   "outputs": [
    {
     "data": {
      "text/html": [
       "<div>\n",
       "<style scoped>\n",
       "    .dataframe tbody tr th:only-of-type {\n",
       "        vertical-align: middle;\n",
       "    }\n",
       "\n",
       "    .dataframe tbody tr th {\n",
       "        vertical-align: top;\n",
       "    }\n",
       "\n",
       "    .dataframe thead th {\n",
       "        text-align: right;\n",
       "    }\n",
       "</style>\n",
       "<table border=\"1\" class=\"dataframe\">\n",
       "  <thead>\n",
       "    <tr style=\"text-align: right;\">\n",
       "      <th></th>\n",
       "      <th>station</th>\n",
       "      <th>total</th>\n",
       "      <th>download_date</th>\n",
       "      <th>available</th>\n",
       "    </tr>\n",
       "  </thead>\n",
       "  <tbody>\n",
       "    <tr>\n",
       "      <th>74</th>\n",
       "      <td>50</td>\n",
       "      <td>40</td>\n",
       "      <td>2019-02-10 18:13:39.827</td>\n",
       "      <td>39</td>\n",
       "    </tr>\n",
       "    <tr>\n",
       "      <th>350</th>\n",
       "      <td>50</td>\n",
       "      <td>40</td>\n",
       "      <td>2019-02-10 18:29:13.135</td>\n",
       "      <td>36</td>\n",
       "    </tr>\n",
       "    <tr>\n",
       "      <th>625</th>\n",
       "      <td>50</td>\n",
       "      <td>40</td>\n",
       "      <td>2019-02-10 18:44:43.728</td>\n",
       "      <td>33</td>\n",
       "    </tr>\n",
       "    <tr>\n",
       "      <th>901</th>\n",
       "      <td>50</td>\n",
       "      <td>40</td>\n",
       "      <td>2019-02-10 19:00:14.475</td>\n",
       "      <td>31</td>\n",
       "    </tr>\n",
       "    <tr>\n",
       "      <th>1177</th>\n",
       "      <td>50</td>\n",
       "      <td>40</td>\n",
       "      <td>2019-02-10 19:15:48.800</td>\n",
       "      <td>33</td>\n",
       "    </tr>\n",
       "    <tr>\n",
       "      <th>...</th>\n",
       "      <td>...</td>\n",
       "      <td>...</td>\n",
       "      <td>...</td>\n",
       "      <td>...</td>\n",
       "    </tr>\n",
       "    <tr>\n",
       "      <th>26239</th>\n",
       "      <td>50</td>\n",
       "      <td>40</td>\n",
       "      <td>2019-02-11 22:41:56.937</td>\n",
       "      <td>32</td>\n",
       "    </tr>\n",
       "    <tr>\n",
       "      <th>26515</th>\n",
       "      <td>50</td>\n",
       "      <td>40</td>\n",
       "      <td>2019-02-11 22:57:27.760</td>\n",
       "      <td>33</td>\n",
       "    </tr>\n",
       "    <tr>\n",
       "      <th>26791</th>\n",
       "      <td>50</td>\n",
       "      <td>40</td>\n",
       "      <td>2019-02-11 23:12:58.602</td>\n",
       "      <td>33</td>\n",
       "    </tr>\n",
       "    <tr>\n",
       "      <th>27067</th>\n",
       "      <td>50</td>\n",
       "      <td>40</td>\n",
       "      <td>2019-02-11 23:28:29.903</td>\n",
       "      <td>32</td>\n",
       "    </tr>\n",
       "    <tr>\n",
       "      <th>27343</th>\n",
       "      <td>50</td>\n",
       "      <td>40</td>\n",
       "      <td>2019-02-11 23:44:00.786</td>\n",
       "      <td>32</td>\n",
       "    </tr>\n",
       "  </tbody>\n",
       "</table>\n",
       "<p>100 rows × 4 columns</p>\n",
       "</div>"
      ],
      "text/plain": [
       "       station  total            download_date  available\n",
       "74          50     40  2019-02-10 18:13:39.827         39\n",
       "350         50     40  2019-02-10 18:29:13.135         36\n",
       "625         50     40  2019-02-10 18:44:43.728         33\n",
       "901         50     40  2019-02-10 19:00:14.475         31\n",
       "1177        50     40  2019-02-10 19:15:48.800         33\n",
       "...        ...    ...                      ...        ...\n",
       "26239       50     40  2019-02-11 22:41:56.937         32\n",
       "26515       50     40  2019-02-11 22:57:27.760         33\n",
       "26791       50     40  2019-02-11 23:12:58.602         33\n",
       "27067       50     40  2019-02-11 23:28:29.903         32\n",
       "27343       50     40  2019-02-11 23:44:00.786         32\n",
       "\n",
       "[100 rows x 4 columns]"
      ]
     },
     "metadata": {},
     "output_type": "display_data"
    }
   ],
   "source": [
    "# Recuerdo que tengo la información guardada en el dataframe 'station_50':\n",
    "display(station_50)"
   ]
  },
  {
   "cell_type": "code",
   "execution_count": 50,
   "id": "ee239f57",
   "metadata": {},
   "outputs": [
    {
     "data": {
      "text/plain": [
       "<function matplotlib.pyplot.show(close=None, block=None)>"
      ]
     },
     "execution_count": 50,
     "metadata": {},
     "output_type": "execute_result"
    },
    {
     "data": {
      "image/png": "[encoded data removed]",
      "text/plain": [
       "<Figure size 1080x576 with 1 Axes>"
      ]
     },
     "metadata": {
      "needs_background": "light"
     },
     "output_type": "display_data"
    }
   ],
   "source": [
    "#Grafico la linea temporal con matplotlib con la funcion .plot_date() que se utiliza para trazar datos que contienen fechas.\n",
    "#Me creo una lista con los datos de fecha (eje x) y otra con los datos de bicis disponibles(eje y)\n",
    "date=list(station_50['download_date'])\n",
    "available=list(station_50['available'])\n",
    "#Genero el grafico plt.plot_date(x,y)\n",
    "plt.plot_date(date,available,linestyle='solid')\n",
    "#Genero la escala del grafico:\n",
    "plt.gcf().set_size_inches(15,8)\n",
    "#Ajusto automáticamente los parámetros: \n",
    "plt.tight_layout()\n",
    "#Visualizo el gráfico:\n",
    "plt.show"
   ]
  },
  {
   "cell_type": "code",
   "execution_count": null,
   "id": "688969e8",
   "metadata": {},
   "outputs": [],
   "source": []
  }
 ],
 "metadata": {
  "kernelspec": {
   "display_name": "Python 3 (ipykernel)",
   "language": "python",
   "name": "python3"
  },
  "language_info": {
   "codemirror_mode": {
    "name": "ipython",
    "version": 3
   },
   "file_extension": ".py",
   "mimetype": "text/x-python",
   "name": "python",
   "nbconvert_exporter": "python",
   "pygments_lexer": "ipython3",
   "version": "3.9.12"
  }
 },
 "nbformat": 4,
 "nbformat_minor": 5
}
